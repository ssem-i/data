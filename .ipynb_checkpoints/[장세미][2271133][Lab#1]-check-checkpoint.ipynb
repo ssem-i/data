{
 "cells": [
  {
   "cell_type": "code",
   "execution_count": null,
   "metadata": {
    "id": "ER6CvEBI9vCQ"
   },
   "outputs": [],
   "source": []
  },
  {
   "cell_type": "markdown",
   "metadata": {
    "id": "jrNc2xDM9wfw"
   },
   "source": [
    "# Spring 2024 Data Mining\n",
    "\n",
    "#**Lab Report #1**\n",
    "\n",
    "* Submission Due date : **2024.4.1 (Mon), 10:00 AM, (No delay)**  ⏰\n",
    "* Submission : eClass\n",
    "* Attached File Format : [Name]_[StudentID]_[Lab#1].ipynb\n",
    "\n",
    "\n",
    "\n"
   ]
  },
  {
   "cell_type": "markdown",
   "metadata": {
    "id": "fE36pPSC_E_R"
   },
   "source": [
    "0. 준비사항 : eClass 다운로드, 광역시도별 인구데이터 \"**population.csv**\"\n",
    "1. 광역시도별 인구 데이터를 이용하여 다음의 분석을 수행하고, 파이썬 코드 작성한 다음, 보고서를 작성하시오.\n",
    "\n",
    "1-1) 지역별(region) 인구의 히스토그램을 나타내고, 지역별 인구의 평균과 중앙값의 비교 결과를 고려하여 시사점을 설명하시오.\n",
    "\n",
    "1-2) 지역별(region) 남녀비율의 히스토그램을 나타내고, 남녀비율의 평균과 중앙값의 비교 결과를 고려하여 시사점을 설명하시오.\n"
   ]
  },
  {
   "cell_type": "markdown",
   "metadata": {},
   "source": [
    "## 0 준비사항"
   ]
  },
  {
   "cell_type": "code",
   "execution_count": 2,
   "metadata": {
    "colab": {
     "base_uri": "https://localhost:8080/"
    },
    "id": "MQpahHGs_1nG",
    "outputId": "89090828-da9a-4fce-f03d-a7fc304c3781",
    "scrolled": true
   },
   "outputs": [
    {
     "name": "stdout",
     "output_type": "stream",
     "text": [
      "       region  population     male   female  household_korean  \\\n",
      "0       Seoul     9736027  4721977  5014050           4426007   \n",
      "1       Busan     3396109  1663619  1732490           1544663   \n",
      "2       Daegu     2412642  1189901  1222741           1063893   \n",
      "3     Incheon     3014739  1513277  1501462           1298647   \n",
      "4     Gwangju     1462545   724178   738367            645712   \n",
      "5     Daejeon     1469543   732593   736950            664417   \n",
      "6       Ulsan     1138419   586031   552388            482650   \n",
      "7      Sejong      376779   188619   188160            153649   \n",
      "8    Gyeonggi    13925862  7038296  6887566           5841995   \n",
      "9     Gangwon     1555876   783743   772133            746220   \n",
      "10   Chungbuk     1633472   832743   800729            760672   \n",
      "11   Chungnam     2181835  1120429  1061406           1001915   \n",
      "12    Jeonbuk     1817186   905672   911514            849001   \n",
      "13    Jeonnam     1865459   943018   922441            903108   \n",
      "14  Gyeongbuk     2677709  1355128  1322581           1276846   \n",
      "15  Gyeongnam     3377331  1709989  1667342           1505971   \n",
      "16       Jeju      697476   350822   346654            307529   \n",
      "\n",
      "    population_korean  male_korean  female_korean  population_foreigner  \\\n",
      "0             9509458      4618040        4891418                226569   \n",
      "1             3350380      1639044        1711336                 45729   \n",
      "2             2385412      1175632        1209780                 27230   \n",
      "3             2948375      1476373        1472002                 66364   \n",
      "4             1441611       713015         728596                 20934   \n",
      "5             1452251       724626         727625                 17292   \n",
      "6             1121592       576217         545375                 16827   \n",
      "7              371895       185678         186217                  4884   \n",
      "8            13565450      6827298        6738152                360412   \n",
      "9             1538492       774332         764160                 17384   \n",
      "10            1597427       810672         786755                 36045   \n",
      "11            2119257      1083366        1035891                 62578   \n",
      "12            1786855       888994         897861                 30331   \n",
      "13            1832803       922221         910582                 32656   \n",
      "14            2626609      1323661        1302948                 51100   \n",
      "15            3314183      1668338        1645845                 63148   \n",
      "16             676759       339177         337582                 20717   \n",
      "\n",
      "    male_foreigner  female_foreigner  \n",
      "0           103937            122632  \n",
      "1            24575             21154  \n",
      "2            14269             12961  \n",
      "3            36904             29460  \n",
      "4            11163              9771  \n",
      "5             7967              9325  \n",
      "6             9814              7013  \n",
      "7             2941              1943  \n",
      "8           210998            149414  \n",
      "9             9411              7973  \n",
      "10           22071             13974  \n",
      "11           37063             25515  \n",
      "12           16678             13653  \n",
      "13           20797             11859  \n",
      "14           31467             19633  \n",
      "15           41651             21497  \n",
      "16           11645              9072  \n"
     ]
    }
   ],
   "source": [
    "import pandas as pd\n",
    "import matplotlib.pyplot as plt\n",
    "\n",
    "data = pd.read_csv('./population.csv', encoding='cp949')\n",
    "print(data)"
   ]
  },
  {
   "cell_type": "markdown",
   "metadata": {},
   "source": [
    "## 1-1 지역별 인구 히스토그램"
   ]
  },
  {
   "cell_type": "code",
   "execution_count": 3,
   "metadata": {},
   "outputs": [
    {
     "data": {
      "image/png": "[encoded data removed]",
      "text/plain": [
       "<Figure size 864x432 with 1 Axes>"
      ]
     },
     "metadata": {
      "needs_background": "light"
     },
     "output_type": "display_data"
    }
   ],
   "source": [
    "import matplotlib.pyplot as plt\n",
    "import pandas as pd\n",
    "\n",
    "data = pd.read_csv('./population.csv', encoding='cp949')\n",
    "\n",
    "plt.figure(figsize=(12, 6))\n",
    "plt.bar(data['region'], data['population'], color='mediumpurple')\n",
    "plt.yticks(range(0, max(data['population'])+1, 2000000))  # 간격 설정\n",
    "\n",
    "plt.rc('font', family='Malgun Gothic')\n",
    "plt.title('지역별 인구 히스토그램', fontsize=20)\n",
    "plt.xlabel('지역')\n",
    "plt.ylabel('인구수 (천만명)')\n",
    "plt.xticks(rotation=45)\n",
    "plt.grid(True)\n",
    "plt.show()\n"
   ]
  },
  {
   "cell_type": "code",
   "execution_count": 8,
   "metadata": {},
   "outputs": [
    {
     "name": "stdout",
     "output_type": "stream",
     "text": [
      "인구의 평균: 3102294.6470588236\n",
      "인구의 중앙값: 1865459.0\n"
     ]
    }
   ],
   "source": [
    "import numpy as np\n",
    "# 평균과 중앙값 계산\n",
    "mean_population = np.mean(data['population'])\n",
    "median_population = np.median(data['population'])\n",
    "\n",
    "print(\"인구의 평균:\", mean_population)\n",
    "print(\"인구의 중앙값:\", median_population)"
   ]
  },
  {
   "cell_type": "markdown",
   "metadata": {},
   "source": [
    "### 평균이 중앙값보다 높고 차이가 작지 않은 것으로 보아, 인구가 밀집된 지역이 존재하며 인구가 균등하게 분포하지 않은 것을 알 수 있다. 매년 수도권 집중화 현상이 가속화되고 있는데, 주요 성장 산업과 교육 관련 인프라가 수도권에 많이 몰려있는게 문제의 원인이라고 할 수 있다. 이를 해결하기 위해서는 비수도권 지역에 투자하여 지역 경제 발전의 거점을 형성하고, 정부 차원의 정책과 다양한 서비스 등을 통한 지역 활성화가 필요해 보인다."
   ]
  },
  {
   "cell_type": "markdown",
   "metadata": {},
   "source": [
    "## 1-2 지역별 남녀비율의 히스토그램"
   ]
  },
  {
   "cell_type": "code",
   "execution_count": 9,
   "metadata": {},
   "outputs": [
    {
     "data": {
      "image/png": "[encoded data removed]",
      "text/plain": [
       "<Figure size 864x432 with 1 Axes>"
      ]
     },
     "metadata": {
      "needs_background": "light"
     },
     "output_type": "display_data"
    }
   ],
   "source": [
    "import matplotlib.pyplot as plt\n",
    "import pandas as pd\n",
    "\n",
    "data = pd.read_csv('./population.csv', encoding='cp949')\n",
    "\n",
    "Region = data['region'].tolist()\n",
    "male = data['male'].tolist()\n",
    "female = data['female'].tolist()\n",
    "\n",
    "total_pop = data['population'].tolist()\n",
    "male_ratio = [m / t * 100 for m, t in zip(male, total_pop)]\n",
    "female_ratio = [f / t * 100 for f, t in zip(female, total_pop)]\n",
    "\n",
    "plt.figure(figsize=(12, 6))\n",
    "plt.bar(Region, male_ratio, color='turquoise', label='남성')\n",
    "plt.bar(Region, female_ratio, bottom=male_ratio, color='mediumslateblue', label='여성')\n",
    "plt.rc('font', family='Malgun Gothic')\n",
    "plt.title('지역별 남녀 비율 히스토그램', fontsize=20)\n",
    "plt.xlabel('지역')\n",
    "plt.ylabel('비율 (%)')\n",
    "plt.xticks(rotation=45)\n",
    "plt.legend()\n",
    "plt.grid(True)\n",
    "plt.tight_layout()\n",
    "plt.show()\n"
   ]
  },
  {
   "cell_type": "code",
   "execution_count": 10,
   "metadata": {
    "scrolled": true
   },
   "outputs": [
    {
     "name": "stdout",
     "output_type": "stream",
     "text": [
      "평균 여성 비율: 49.81869626866676\n",
      "평균 남성 비율: 50.18130373133324\n",
      "중앙값 여성 비율: 49.701208356990065\n",
      "중앙값 남성 비율: 50.29879164300994\n"
     ]
    }
   ],
   "source": [
    "import numpy as np\n",
    "\n",
    "# 각 지역별 남녀비율 계산\n",
    "male_ratio = np.array(data['male']) / np.array(data['population']) *100\n",
    "female_ratio = np.array(data['female']) / np.array(data['population']) *100\n",
    "\n",
    "# 평균과 중앙값 계산\n",
    "mean_female_ratio = np.mean(female_ratio)\n",
    "mean_male_ratio = np.mean(male_ratio)\n",
    "median_female_ratio = np.median(female_ratio)\n",
    "median_male_ratio = np.median(male_ratio)\n",
    "\n",
    "print(\"평균 여성 비율:\", mean_female_ratio)\n",
    "print(\"평균 남성 비율:\", mean_male_ratio)\n",
    "\n",
    "print(\"중앙값 여성 비율:\", median_female_ratio)\n",
    "print(\"중앙값 남성 비율:\", median_male_ratio)\n"
   ]
  },
  {
   "cell_type": "markdown",
   "metadata": {},
   "source": [
    "### 지역별 여성과 남성의 비율이 비슷하게 분포되어 있으므로 대부분 지역이 성별에 따른 인구 구성이 비슷한 것을 알 수 있다. 남아선호사상과 성차별 문제가 심했던 1980~1990년대에는 신생아 남녀성비가 116.5:100에 이른 적도 있으며 2010년대부터 정상 범위에 이르러 현재는 성비 불균형이 개선된 모습이다. 통계청에서는 여성의 사회적 지위가 향상되고, 대를 잇거나 아들이 꼭 있어야 한다는 생각이 많이 옅어졌기 때문인 것으로 분석했다. 남녀 비율이 비슷하면 성 평등을 이루는 것이 더 쉽고, 예전에 비해 경제와 정치에 참여하는 여성이 많아져 경제적, 사회적 안정성 측면에서 긍정적인 영향을 기대할 수 있다."
   ]
  },
  {
   "cell_type": "code",
   "execution_count": null,
   "metadata": {},
   "outputs": [],
   "source": []
  },
  {
   "cell_type": "markdown",
   "metadata": {
    "id": "ImgZGiCPBxQe"
   },
   "source": [
    "2. numpy의 np.random.normal()은 정규분포를 따르는 난수,\n",
    "   np.random.exponential()은 지수분포를 따르는 난수를 생성해준다.\n",
    "   \n",
    "   이 함수를 이용하여 평균 10, 표준편차 10인 정규 분포를 따르는 난수와,\n",
    "   평균 10인 지수분포를 따르는 난수를 각각 10,000개씩 발생시켜 이 값들을 상자그림(box plot)으로 비교하시오."
   ]
  },
  {
   "cell_type": "markdown",
   "metadata": {},
   "source": [
    "## 2 난수 생성"
   ]
  },
  {
   "cell_type": "code",
   "execution_count": 7,
   "metadata": {
    "id": "xnox2MNfB_tE",
    "scrolled": true
   },
   "outputs": [
    {
     "data": {
      "image/png": "[encoded data removed]",
      "text/plain": [
       "<Figure size 864x432 with 1 Axes>"
      ]
     },
     "metadata": {
      "needs_background": "light"
     },
     "output_type": "display_data"
    }
   ],
   "source": [
    "import numpy as np\n",
    "import matplotlib.pyplot as plt\n",
    "\n",
    "# 평균 10, 표준편차 10인 정규 분포를 따르는 난수 생성\n",
    "normal_data = np.random.normal(loc=10, scale=10, size=10000)\n",
    "\n",
    "# 평균 10인 지수 분포를 따르는 난수 생성\n",
    "exponential_data = np.random.exponential(scale=10, size=10000)\n",
    "\n",
    "plt.rcParams['axes.unicode_minus'] = False #기호 표시\n",
    "plt.rc('font', family='Malgun Gothic')\n",
    "plt.figure(figsize=(12, 6))\n",
    "plt.boxplot([normal_data, exponential_data], labels=['Normal', 'Exponential'])\n",
    "plt.title('box plot')\n",
    "plt.ylabel('값')\n",
    "plt.grid(True)\n",
    "plt.show()"
   ]
  },
  {
   "cell_type": "code",
   "execution_count": null,
   "metadata": {},
   "outputs": [],
   "source": []
  },
  {
   "cell_type": "code",
   "execution_count": null,
   "metadata": {},
   "outputs": [],
   "source": []
  },
  {
   "cell_type": "code",
   "execution_count": null,
   "metadata": {},
   "outputs": [],
   "source": []
  },
  {
   "cell_type": "code",
   "execution_count": null,
   "metadata": {},
   "outputs": [],
   "source": []
  }
 ],
 "metadata": {
  "colab": {
   "provenance": []
  },
  "kernelspec": {
   "display_name": "Python 3 (ipykernel)",
   "language": "python",
   "name": "python3"
  },
  "language_info": {
   "codemirror_mode": {
    "name": "ipython",
    "version": 3
   },
   "file_extension": ".py",
   "mimetype": "text/x-python",
   "name": "python",
   "nbconvert_exporter": "python",
   "pygments_lexer": "ipython3",
   "version": "3.9.7"
  }
 },
 "nbformat": 4,
 "nbformat_minor": 1
}
